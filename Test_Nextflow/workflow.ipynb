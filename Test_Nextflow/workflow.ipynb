{
 "cells": [
  {
   "cell_type": "markdown",
   "metadata": {},
   "source": [
    "Tout d'abord, récupérer les fichiers de séquences génomiques fasta et les ranger dans un dossier \"genomes\".\n",
    "Utiliser le fichier mainSURE.nf\n",
    "Si besoin, modifier les chemins d'accès précisés dans le fichier (extrait ci-dessous) : "
   ]
  },
  {
   "cell_type": "code",
   "execution_count": null,
   "metadata": {
    "vscode": {
     "languageId": "shellscript"
    }
   },
   "outputs": [],
   "source": [
    "params.genomes_dir = '/path_to_/genomes'\n",
    "params.concat_dir = '/path_to/Test_Nextflow'\n",
    "\n",
    "#Modifier les chemins "
   ]
  },
  {
   "cell_type": "markdown",
   "metadata": {},
   "source": [
    "Lancer la pipeline nextflow :"
   ]
  },
  {
   "cell_type": "code",
   "execution_count": null,
   "metadata": {
    "vscode": {
     "languageId": "shellscript"
    }
   },
   "outputs": [],
   "source": [
    "nextflow run mainSURE.nf"
   ]
  },
  {
   "cell_type": "markdown",
   "metadata": {},
   "source": [
    "Le pipeline est pour l'instant composé uniquement d'un process qui exécute le fichier python extract_and_concatenate.py (voir ci-dessous)"
   ]
  },
  {
   "cell_type": "code",
   "execution_count": null,
   "metadata": {},
   "outputs": [],
   "source": [
    "from Bio import SeqIO\n",
    "import argparse\n",
    "import re\n",
    "from pathlib import Path\n",
    "from collections import defaultdict\n",
    "\n",
    "def extraction_chromosome(input_dir, output_dir):\n",
    "    pattern = re.compile(r\"(.+)\\.genome\\.fasta\")\n",
    "    chromosomes = defaultdict(list)\n",
    "\n",
    "    # Parcourir tous les fichiers d'entrée\n",
    "    for file in Path(input_dir).glob(\"*.genome.fasta\"):\n",
    "        for record in SeqIO.parse(file, \"fasta\"):\n",
    "            search = re.search(r\"Chromosome (C\\d+)\", record.description)\n",
    "            if search:\n",
    "                chromosomes[search.group(1)].append(record)\n",
    "\n",
    "    # Créer le répertoire de sortie s'il n'existe pas\n",
    "    output_dir.mkdir(parents=True, exist_ok=True)\n",
    "\n",
    "    # Générer les fichiers concaténés\n",
    "    for group, chr_list in chromosomes.items():\n",
    "        output_file = output_dir / f\"Concat_{group}.fasta\"\n",
    "        with open(output_file, \"w\") as concat:\n",
    "            for chr in chr_list:\n",
    "                concat.write(f\">{chr.description}\\n{chr.seq}\\n\")\n",
    "\n",
    "    print(\"Fichiers FASTA générés.\")\n",
    "\n",
    "def main():\n",
    "    # Configuration des arguments du script\n",
    "    parser = argparse.ArgumentParser(description=\"Extraction et concaténation de chromosomes.\")\n",
    "    parser.add_argument(\"--input\", required=True, help=\"/home/nguyeho3/Documents/Github_Pangenome/Projet_Pangenome/Test_Nextflow/genomes\")\n",
    "    parser.add_argument(\"--output\", required=True, help=\"/home/nguyeho3/Documents/Github_Pangenome/Projet_Pangenome/Test_Nextflow/Concat2\")\n",
    "    args = parser.parse_args()\n",
    "\n",
    "    # Appeler la fonction principale avec les arguments\n",
    "    extraction_chromosome(Path(args.input), Path(args.output))\n",
    "\n",
    "if __name__ == '__main__':\n",
    "    main()\n"
   ]
  },
  {
   "cell_type": "markdown",
   "metadata": {},
   "source": [
    "Utiliser la commande ci-dessous pour créer un index pour chaque fichier de concaténation."
   ]
  },
  {
   "cell_type": "code",
   "execution_count": null,
   "metadata": {
    "vscode": {
     "languageId": "shellscript"
    }
   },
   "outputs": [],
   "source": [
    "samtools faidx nom_du_fichier_concatene.fasta"
   ]
  },
  {
   "cell_type": "markdown",
   "metadata": {},
   "source": [
    "Utiliser la commande ci-dessous dans le terminal pour utiliser pggb sur la séquence"
   ]
  },
  {
   "cell_type": "code",
   "execution_count": null,
   "metadata": {
    "vscode": {
     "languageId": "shellscript"
    }
   },
   "outputs": [],
   "source": [
    "nohup pggb -i nom_du_fichier_concatene.fa -n 6 -o Results_PGGB --multiqc"
   ]
  }
 ],
 "metadata": {
  "kernelspec": {
   "display_name": "Python 3",
   "language": "python",
   "name": "python3"
  },
  "language_info": {
   "codemirror_mode": {
    "name": "ipython",
    "version": 3
   },
   "file_extension": ".py",
   "mimetype": "text/x-python",
   "name": "python",
   "nbconvert_exporter": "python",
   "pygments_lexer": "ipython3",
   "version": "3.12.3"
  }
 },
 "nbformat": 4,
 "nbformat_minor": 2
}

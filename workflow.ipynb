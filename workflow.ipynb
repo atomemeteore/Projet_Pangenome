{
 "cells": [
  {
   "cell_type": "markdown",
   "metadata": {},
   "source": [
    "Tout d'abord, récupérer les fichiers de séquences génomiques fasta.\n",
    "Utiliser le script ci-dessous afin d'extraire les séquences chromosomiques de chaque génome dans des fichiers fasta séparés\n",
    "Modifier l'input_file ainsi que les chromosomes_ids pour chaque génome différent.\n",
    "Si besoin, installer Biopython"
   ]
  },
  {
   "cell_type": "code",
   "execution_count": null,
   "metadata": {
    "vscode": {
     "languageId": "shellscript"
    }
   },
   "outputs": [
    {
     "ename": "",
     "evalue": "",
     "output_type": "error",
     "traceback": [
      "\u001b[1;31mRunning cells with 'Python 3.12.3' requires the ipykernel package.\n",
      "\u001b[1;31mRun the following command to install 'ipykernel' into the Python environment. \n",
      "\u001b[1;31mCommand: '/bin/python3 -m pip install ipykernel -U --user --force-reinstall'"
     ]
    }
   ],
   "source": [
    "conda activate environpro"
   ]
  },
  {
   "cell_type": "markdown",
   "metadata": {},
   "source": [
    "Si utilisation du serveur ifb, aller dans le chemin suivant et charger les modules correspondants :"
   ]
  },
  {
   "cell_type": "code",
   "execution_count": null,
   "metadata": {
    "vscode": {
     "languageId": "shellscript"
    }
   },
   "outputs": [],
   "source": [
    "cd /shared/home/hnguyen97/ondemand/data/sys/dashboard/batch_connect/sys/jupyter/core/projet_pangenome\n",
    "module load pggb\n"
   ]
  },
  {
   "cell_type": "code",
   "execution_count": null,
   "metadata": {
    "vscode": {
     "languageId": "shellscript"
    }
   },
   "outputs": [],
   "source": [
    "conda install biopython"
   ]
  },
  {
   "cell_type": "code",
   "execution_count": null,
   "metadata": {
    "vscode": {
     "languageId": "shellscript"
    }
   },
   "outputs": [],
   "source": [
    "cd /home/nguyeho3/Documents/Projet_pangenome"
   ]
  },
  {
   "cell_type": "code",
   "execution_count": null,
   "metadata": {},
   "outputs": [],
   "source": [
    "from Bio import SeqIO\n",
    "import os\n",
    "\n",
    "# Nom du fichier FASTA source\n",
    "input_file = \"/home/nguyeho3/Documents/(06-9-28)-GWHEQVJ00000000.genome.fasta\"\n",
    "\n",
    "# Liste des identifiants des chromosomes à extraire\n",
    "chromosome_ids = [\n",
    "    \"GWHEQVJ00000001\",\n",
    "    \"GWHEQVJ00000002\",\n",
    "    \"GWHEQVJ00000003\",\n",
    "    \"GWHEQVJ00000004\",\n",
    "    \"GWHEQVJ00000005\",\n",
    "    \"GWHEQVJ00000006\",\n",
    "    \"GWHEQVJ00000007\",\n",
    "    \"GWHEQVJ00000008\",\n",
    "    \"GWHEQVJ00000009\",\n",
    "    \"GWHEQVJ00000010\",\n",
    "    \n",
    "    # Ajoutez les autres identifiants ici\n",
    "]\n",
    "\n",
    "# Dossier de sortie\n",
    "output_folder = \"/home/nguyeho3/Documents/chromosomes_(06-9-28)\"\n",
    "os.makedirs(output_folder, exist_ok=True)\n",
    "\n",
    "# Lecture et extraction des séquences correspondant aux identifiants\n",
    "for record in SeqIO.parse(input_file, \"fasta\"):\n",
    "    if record.id in chromosome_ids:\n",
    "        # Construire un fichier de sortie basé sur l'identifiant\n",
    "        output_file = os.path.join(output_folder, f\"{record.id}.fasta\")\n",
    "        with open(output_file, \"w\") as f:\n",
    "            SeqIO.write(record, f, \"fasta\")\n",
    "        print(f\"Séquence {record.id} sauvegardée dans {output_file}\")\n",
    "    else:\n",
    "        print(f\"Séquence {record.id} ignorée (non dans la liste des identifiants).\")\n",
    "\n",
    "print(\"Extraction terminée.\")\n",
    "\n"
   ]
  },
  {
   "cell_type": "markdown",
   "metadata": {},
   "source": [
    "Utiliser le script ci-dessous pour extraire des loci d'intérêt et les concaténer dans un fichier fasta (voir supplementary table 10 pour les position start et end)"
   ]
  },
  {
   "cell_type": "code",
   "execution_count": null,
   "metadata": {},
   "outputs": [],
   "source": [
    "from Bio import SeqIO\n",
    "\n",
    "# Dossier contenant les fichiers FASTA pour chaque chromosome\n",
    "fasta_folder = \"/home/nguyeho3/Documents/Projet_pangenome/chromosomes/chromosomes_2/\"\n",
    "\n",
    "# Liste des loci à extraire\n",
    "# Format : {chromosome_filename: [(start1, end1), (start2, end2), ...]}\n",
    "loci_to_extract = {\n",
    "    \"GWHEQVE00000002.fasta\": [(500001, 700000)],\n",
    "    \"GWHEQVJ00000002.fasta\": [(500001, 700000)],\n",
    "    \"GWHEQVM00000002.fasta\": [(500001,700000)],\n",
    "    \"GWHEQVN00000002.fasta\": [(500001,700000)],\n",
    "    # Ajouter d'autres fichiers et coordonnées si nécessaire\n",
    "}\n",
    "\n",
    "# Fichier de sortie\n",
    "output_file = \"extracted_loci_3.fasta\"\n",
    "\n",
    "# Extraire les loci depuis les fichiers FASTA individuels\n",
    "with open(output_file, \"w\") as out_file:\n",
    "    for fasta_file, loci in loci_to_extract.items():\n",
    "        fasta_path = fasta_folder + fasta_file\n",
    "        \n",
    "        try:\n",
    "            # Charger la séquence du fichier FASTA\n",
    "            record = next(SeqIO.parse(fasta_path, \"fasta\"))\n",
    "            sequence = record.seq\n",
    "        except FileNotFoundError:\n",
    "            print(f\"Avertissement : Fichier '{fasta_file}' introuvable.\")\n",
    "            continue\n",
    "        except StopIteration:\n",
    "            print(f\"Avertissement : Fichier '{fasta_file}' est vide.\")\n",
    "            continue\n",
    "        \n",
    "        # Extraire les loci pour ce fichier\n",
    "        for i, (start, end) in enumerate(loci, start=1):\n",
    "            # Extraire le locus (attention à l'index 0 en Python)\n",
    "            locus_seq = sequence[start-1:end]\n",
    "            \n",
    "            # Créer un header unique pour chaque locus\n",
    "            header = f\">{fasta_file}_locus_{start}_{end}_segment_{i}\"\n",
    "            \n",
    "            # Sauvegarder dans le fichier FASTA\n",
    "            out_file.write(f\"{header}\\n\")\n",
    "            out_file.write(str(locus_seq) + \"\\n\")\n",
    "            print(f\"Locus extrait : {header}\")\n",
    "\n",
    "print(f\"Extraction terminée. Résultats sauvegardés dans '{output_file}'.\")\n"
   ]
  },
  {
   "cell_type": "markdown",
   "metadata": {},
   "source": [
    "Utiliser la commande ci-dessous dans le terminal pour concaténer les séquences chromosomiques d'intérêt en un seul fichier fasta "
   ]
  },
  {
   "cell_type": "code",
   "execution_count": null,
   "metadata": {
    "vscode": {
     "languageId": "shellscript"
    }
   },
   "outputs": [],
   "source": [
    "cat GWHEQVE00000008.fasta GWHEQVJ00000008.fasta GWHEQVM00000008.fasta GWHEQVN00000008.fasta > concatChrom1.fa"
   ]
  },
  {
   "cell_type": "markdown",
   "metadata": {},
   "source": [
    "Utiliser la commande ci-dessous dans le terminal pour utiliser pggb sur la séquence"
   ]
  },
  {
   "cell_type": "code",
   "execution_count": null,
   "metadata": {
    "vscode": {
     "languageId": "shellscript"
    }
   },
   "outputs": [],
   "source": [
    "nohup pggb -i concatChrom1.fa -n 4 -o Results_PGGB6 --multiqc"
   ]
  },
  {
   "cell_type": "markdown",
   "metadata": {},
   "source": [
    "Les résultats seront rangés dans le dossier Results_PGGB4"
   ]
  },
  {
   "cell_type": "code",
   "execution_count": null,
   "metadata": {
    "vscode": {
     "languageId": "shellscript"
    }
   },
   "outputs": [],
   "source": [
    "samtools faidx extracted_loci_2.fasta"
   ]
  },
  {
   "cell_type": "code",
   "execution_count": null,
   "metadata": {
    "vscode": {
     "languageId": "shellscript"
    }
   },
   "outputs": [],
   "source": []
  }
 ],
 "metadata": {
  "kernelspec": {
   "display_name": "Python 3",
   "language": "python",
   "name": "python3"
  },
  "language_info": {
   "name": "python",
   "version": "3.12.3"
  }
 },
 "nbformat": 4,
 "nbformat_minor": 2
}

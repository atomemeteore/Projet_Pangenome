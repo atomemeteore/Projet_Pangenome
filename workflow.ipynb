{
 "cells": [
  {
   "cell_type": "markdown",
   "metadata": {},
   "source": [
    "Tout d'abord, récupérer les fichiers de séquences génomiques fasta.\n",
    "Utiliser le script ci-dessous afin d'extraire les séquences chromosomiques de chaque génome dans des fichiers fasta séparés\n",
    "Modifier l'input_file ainsi que les chromosomes_ids pour chaque génome différent.\n",
    "Si besoin, installer Biopython\n",
    "\n",
    "Activer un environnement conda : "
   ]
  },
  {
   "cell_type": "code",
   "execution_count": null,
   "metadata": {
    "vscode": {
     "languageId": "shellscript"
    }
   },
   "outputs": [],
   "source": [
    "conda activate environpro"
   ]
  },
  {
   "cell_type": "markdown",
   "metadata": {},
   "source": [
    "Si utilisation du serveur ifb, aller dans le chemin de votre compte et charger les modules correspondants :"
   ]
  },
  {
   "cell_type": "code",
   "execution_count": null,
   "metadata": {
    "vscode": {
     "languageId": "shellscript"
    }
   },
   "outputs": [],
   "source": [
    "cd /shared/home/hnguyen97/ondemand/data/sys/dashboard/batch_connect/sys/jupyter/core/projet_pangenome\n",
    "module load pggb\n"
   ]
  },
  {
   "cell_type": "markdown",
   "metadata": {},
   "source": [
    "(Si besoin :)"
   ]
  },
  {
   "cell_type": "code",
   "execution_count": null,
   "metadata": {
    "vscode": {
     "languageId": "shellscript"
    }
   },
   "outputs": [],
   "source": [
    "conda install biopython"
   ]
  },
  {
   "cell_type": "markdown",
   "metadata": {},
   "source": [
    "Utiliser le fichier python extraction_chromosome.py :"
   ]
  },
  {
   "cell_type": "code",
   "execution_count": null,
   "metadata": {},
   "outputs": [],
   "source": [
    "\n",
    "from Bio import SeqIO\n",
    "import os\n",
    "import re\n",
    "\n",
    "repertoire = \"Projet_Pangenome/genomes\"\n",
    "input_list = []\n",
    "\n",
    "for nom_fichier in os.listdir(repertoire):\n",
    "    chemin_complet = os.path.join(repertoire, nom_fichier)\n",
    "    input_list.append(chemin_complet)\n",
    "\n",
    "pattern = re.compile(r\"(.+)\\/genomes\\/(.+)\\.genome\\.fasta\")\n",
    "\n",
    "def extraction_chromosome():\n",
    "    for file in input_list:\n",
    "        print(file)\n",
    "        # Dossier de sortie\n",
    "        match = pattern.match(file)\n",
    "        if match:\n",
    "            print(match.group(2))                 \n",
    "            output_folder = f\"Projet_Pangenome/Chromosomes_{match.group(2)}\"\n",
    "            os.makedirs(output_folder, exist_ok=True)\n",
    "            # Lecture et extraction des séquences\n",
    "            for record in SeqIO.parse(file, \"fasta\"):\n",
    "                    # Construire un fichier de sortie basé sur l'identifiant\n",
    "                    output_file = os.path.join(output_folder,f\"{record.id}.fasta\")\n",
    "                    with open(output_file, \"w\") as f:\n",
    "                        SeqIO.write(record, f, \"fasta\")\n",
    "                    print(f\"Séquence {record.id} sauvegardée dans {output_file}\")\n",
    "    print(\"Extraction terminée.\")\n",
    "\n",
    "def main():\n",
    "    extraction_chromosome()\n",
    "\n",
    "if __name__ == '__main__':\n",
    "    main()"
   ]
  },
  {
   "cell_type": "markdown",
   "metadata": {},
   "source": [
    "**Ou alors**\n",
    "\n",
    "Utiliser le script ci-dessous pour extraire des loci d'intérêt et les concaténer dans un fichier fasta (voir supplementary table 10 de l'article présent dans README pour les position start et end)"
   ]
  },
  {
   "cell_type": "code",
   "execution_count": null,
   "metadata": {},
   "outputs": [],
   "source": [
    "from Bio import SeqIO\n",
    "\n",
    "# Dossier contenant les fichiers FASTA pour chaque chromosome\n",
    "fasta_folder = \"/home/nguyeho3/Documents/Projet_pangenome/chromosomes/chromosomes_2/\"\n",
    "\n",
    "# Liste des loci à extraire\n",
    "# Format : {chromosome_filename: [(start1, end1), (start2, end2), ...]}\n",
    "loci_to_extract = {\n",
    "    \"GWHEQVE00000002.fasta\": [(500001, 700000)],\n",
    "    \"GWHEQVJ00000002.fasta\": [(500001, 700000)],\n",
    "    \"GWHEQVM00000002.fasta\": [(500001,700000)],\n",
    "    \"GWHEQVN00000002.fasta\": [(500001,700000)],\n",
    "    # Ajouter d'autres fichiers et coordonnées si nécessaire\n",
    "}\n",
    "\n",
    "# Fichier de sortie\n",
    "output_file = \"extracted_loci_3.fasta\"\n",
    "\n",
    "# Extraire les loci depuis les fichiers FASTA individuels\n",
    "with open(output_file, \"w\") as out_file:\n",
    "    for fasta_file, loci in loci_to_extract.items():\n",
    "        fasta_path = fasta_folder + fasta_file\n",
    "        \n",
    "        try:\n",
    "            # Charger la séquence du fichier FASTA\n",
    "            record = next(SeqIO.parse(fasta_path, \"fasta\"))\n",
    "            sequence = record.seq\n",
    "        except FileNotFoundError:\n",
    "            print(f\"Avertissement : Fichier '{fasta_file}' introuvable.\")\n",
    "            continue\n",
    "        except StopIteration:\n",
    "            print(f\"Avertissement : Fichier '{fasta_file}' est vide.\")\n",
    "            continue\n",
    "        \n",
    "        # Extraire les loci pour ce fichier\n",
    "        for i, (start, end) in enumerate(loci, start=1):\n",
    "            # Extraire le locus (attention à l'index 0 en Python)\n",
    "            locus_seq = sequence[start-1:end]\n",
    "            \n",
    "            # Créer un header unique pour chaque locus\n",
    "            header = f\">{fasta_file}_locus_{start}_{end}_segment_{i}\"\n",
    "            \n",
    "            # Sauvegarder dans le fichier FASTA\n",
    "            out_file.write(f\"{header}\\n\")\n",
    "            out_file.write(str(locus_seq) + \"\\n\")\n",
    "            print(f\"Locus extrait : {header}\")\n",
    "\n",
    "print(f\"Extraction terminée. Résultats sauvegardés dans '{output_file}'.\")\n"
   ]
  },
  {
   "cell_type": "markdown",
   "metadata": {},
   "source": [
    "Utiliser la commande ci-dessous dans le terminal pour concaténer les séquences chromosomiques d'intérêt en un seul fichier fasta (modifier les noms des fichiers en fonction de la concaténation voulue)"
   ]
  },
  {
   "cell_type": "code",
   "execution_count": null,
   "metadata": {
    "vscode": {
     "languageId": "shellscript"
    }
   },
   "outputs": [],
   "source": [
    "cat GWHEQVE00000008.fasta GWHEQVJ00000008.fasta GWHEQVM00000008.fasta GWHEQVN00000008.fasta > concatChrom1.fa"
   ]
  },
  {
   "cell_type": "markdown",
   "metadata": {},
   "source": [
    "**Ou alors**\n",
    "\n",
    "Vous pouvez utiliser le fichier concatenate.py ci-dessous pour réaliser une concaténation des séquences chromosomiques en fonction du numéro de chromosome:"
   ]
  },
  {
   "cell_type": "code",
   "execution_count": null,
   "metadata": {},
   "outputs": [],
   "source": [
    "from pathlib import Path\n",
    "from collections import defaultdict\n",
    "\n",
    "# Répertoire contenant les fichiers .fasta\n",
    "chemin = Path(\"Projet_Pangenome/Chromosomes\")\n",
    "\n",
    "# Dictionnaire pour regrouper les fichiers par leur suffixe\n",
    "groupes_fichiers = defaultdict(list)\n",
    "\n",
    "# Dictionnaires pour les groupes de contenu\n",
    "groupes_contenu = {\n",
    "    \"C1\": [],\n",
    "    \"C2\": [],\n",
    "    \"C3\": [],\n",
    "    \"C4\": [],\n",
    "    \"C5\": [],\n",
    "    \"C6\": [],\n",
    "    \"C7\": [],\n",
    "    \"C8\": [],\n",
    "    \"C9\": [],\n",
    "    \"00000010\": []\n",
    "}\n",
    "\n",
    "# Parcourir les fichiers dans le répertoire\n",
    "for element in chemin.glob(\"*.fasta\"):\n",
    "    with open(element, 'r') as chromosome:\n",
    "        contenu = chromosome.read()\n",
    "        for key in groupes_contenu.keys():\n",
    "            if key in contenu:\n",
    "                groupes_contenu[key].append(contenu)\n",
    "\n",
    "# Créer le répertoire de sortie s'il n'existe pas\n",
    "dossier = Path(\"Projet_Pangenome/Concat\")\n",
    "if not dossier.exists():\n",
    "    dossier.mkdir(parents=True)\n",
    "\n",
    "# Écrire les fichiers concaténés\n",
    "for key, sequences in groupes_contenu.items():\n",
    "    if sequences:  # Vérifier qu'il y a des séquences à écrire\n",
    "        output_file = dossier / f\"Concat_{key}.fasta\"\n",
    "        with open(output_file, \"w\") as concat:\n",
    "            concat.write(\"\\n\".join(sequences))\n",
    "\n",
    "print(\"Concaténation terminée.\")"
   ]
  },
  {
   "cell_type": "markdown",
   "metadata": {},
   "source": [
    "Créer un index pour chaque fichier fasta concaténé"
   ]
  },
  {
   "cell_type": "code",
   "execution_count": null,
   "metadata": {
    "vscode": {
     "languageId": "shellscript"
    }
   },
   "outputs": [],
   "source": [
    "samtools faidx Concat_C1.fasta"
   ]
  },
  {
   "cell_type": "markdown",
   "metadata": {},
   "source": [
    "Utiliser la commande ci-dessous dans le terminal pour utiliser pggb sur la séquence"
   ]
  },
  {
   "cell_type": "code",
   "execution_count": null,
   "metadata": {
    "vscode": {
     "languageId": "shellscript"
    }
   },
   "outputs": [],
   "source": [
    "nohup pggb -i Concat_C1.fa -n 4 -o Results_PGGB --multiqc"
   ]
  },
  {
   "cell_type": "markdown",
   "metadata": {},
   "source": [
    "Les résultats seront rangés dans le dossier Results_PGGB (Durée approximative : 3 heures en fonction des capacités de la machine)"
   ]
  }
 ],
 "metadata": {
  "kernelspec": {
   "display_name": "Python 3",
   "language": "python",
   "name": "python3"
  },
  "language_info": {
   "codemirror_mode": {
    "name": "ipython",
    "version": 3
   },
   "file_extension": ".py",
   "mimetype": "text/x-python",
   "name": "python",
   "nbconvert_exporter": "python",
   "pygments_lexer": "ipython3",
   "version": "3.12.3"
  }
 },
 "nbformat": 4,
 "nbformat_minor": 2
}
